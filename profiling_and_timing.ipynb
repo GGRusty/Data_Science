{
 "cells": [
  {
   "cell_type": "code",
   "execution_count": 21,
   "metadata": {},
   "outputs": [
    {
     "name": "stdout",
     "output_type": "stream",
     "text": [
      "899 ns ± 47.7 ns per loop (mean ± std. dev. of 7 runs, 1,000,000 loops each)\n"
     ]
    }
   ],
   "source": [
    "# good practice is to get the code working and then make it fast\n",
    "# ipython has some magic commands that can help with this\n",
    "# %time and %timeit are two of them to time code\n",
    "# %prun is another one to profile code along with %lprun and %mprun for line-by-line and memory profiling\n",
    "# %memit is another one to measure the memory use of a single statement\n",
    "%timeit sum(range(100))"
   ]
  },
  {
   "cell_type": "code",
   "execution_count": 22,
   "metadata": {},
   "outputs": [
    {
     "name": "stdout",
     "output_type": "stream",
     "text": [
      "145 ms ± 4.72 ms per loop (mean ± std. dev. of 7 runs, 10 loops each)\n"
     ]
    }
   ],
   "source": [
    "# timeit runs the code several times to get a good estimate of the run time\n",
    "def func3():\n",
    "    total = 0\n",
    "    for i in range(1000):\n",
    "        for j in range(1000):\n",
    "            total += i * (-1) ** j\n",
    "        \n",
    "%timeit func3()"
   ]
  },
  {
   "cell_type": "code",
   "execution_count": 23,
   "metadata": {},
   "outputs": [
    {
     "name": "stdout",
     "output_type": "stream",
     "text": [
      "660 µs ± 34.2 µs per loop (mean ± std. dev. of 7 runs, 1,000 loops each)\n"
     ]
    }
   ],
   "source": [
    "import random\n",
    "L = [random.random() for i in range(100000)]\n",
    "%timeit L.sort()"
   ]
  },
  {
   "cell_type": "code",
   "execution_count": 24,
   "metadata": {},
   "outputs": [
    {
     "name": "stdout",
     "output_type": "stream",
     "text": [
      "sorting an unsorted list:\n",
      "CPU times: user 15.4 ms, sys: 127 µs, total: 15.5 ms\n",
      "Wall time: 15.6 ms\n"
     ]
    }
   ],
   "source": [
    "L = [random.random() for i in range(100000)]\n",
    "print(\"sorting an unsorted list:\")\n",
    "%time L.sort()"
   ]
  },
  {
   "cell_type": "code",
   "execution_count": 25,
   "metadata": {},
   "outputs": [
    {
     "name": "stdout",
     "output_type": "stream",
     "text": [
      "sorting an already sorted list:\n",
      "CPU times: user 1.37 ms, sys: 32 µs, total: 1.4 ms\n",
      "Wall time: 1.44 ms\n"
     ]
    }
   ],
   "source": [
    "print(\"sorting an already sorted list:\")\n",
    "%time L.sort()"
   ]
  },
  {
   "cell_type": "code",
   "execution_count": 26,
   "metadata": {},
   "outputs": [
    {
     "name": "stdout",
     "output_type": "stream",
     "text": [
      "CPU times: user 145 ms, sys: 2.8 ms, total: 148 ms\n",
      "Wall time: 150 ms\n"
     ]
    }
   ],
   "source": [
    "%time func3()"
   ]
  },
  {
   "cell_type": "code",
   "execution_count": 27,
   "metadata": {},
   "outputs": [],
   "source": [
    "# statements in context is sometimes more important than the time it takes to run a single statement for this we use %prun\n",
    "def sum_of_lists(N):\n",
    "    total = 0\n",
    "    for i in range(5):\n",
    "        L = [j ^ (j >> i) for j in range(N)]\n",
    "        total += sum(L)\n",
    "    return total"
   ]
  },
  {
   "cell_type": "code",
   "execution_count": 28,
   "metadata": {},
   "outputs": [
    {
     "name": "stdout",
     "output_type": "stream",
     "text": [
      " "
     ]
    },
    {
     "name": "stdout",
     "output_type": "stream",
     "text": [
      "         14 function calls in 0.841 seconds\n",
      "\n",
      "   Ordered by: internal time\n",
      "\n",
      "   ncalls  tottime  percall  cumtime  percall filename:lineno(function)\n",
      "        5    0.761    0.152    0.761    0.152 3077943115.py:5(<listcomp>)\n",
      "        1    0.035    0.035    0.830    0.830 3077943115.py:2(sum_of_lists)\n",
      "        5    0.034    0.007    0.034    0.007 {built-in method builtins.sum}\n",
      "        1    0.011    0.011    0.841    0.841 <string>:1(<module>)\n",
      "        1    0.000    0.000    0.841    0.841 {built-in method builtins.exec}\n",
      "        1    0.000    0.000    0.000    0.000 {method 'disable' of '_lsprof.Profiler' objects}"
     ]
    }
   ],
   "source": [
    "%prun sum_of_lists(1000000)"
   ]
  },
  {
   "cell_type": "code",
   "execution_count": 31,
   "metadata": {},
   "outputs": [
    {
     "name": "stdout",
     "output_type": "stream",
     "text": [
      "The line_profiler extension is already loaded. To reload it, use:\n",
      "  %reload_ext line_profiler\n"
     ]
    }
   ],
   "source": [
    "# can do line by line profiling with %lprun\n",
    "%load_ext line_profiler\n",
    "%load_ext memory_profiler"
   ]
  },
  {
   "cell_type": "code",
   "execution_count": 30,
   "metadata": {},
   "outputs": [
    {
     "name": "stdout",
     "output_type": "stream",
     "text": [
      "Timer unit: 1e-09 s\n",
      "\n",
      "Total time: 0.00665 s\n",
      "File: /var/folders/8q/0wn9p2n54hb1x_gb6ckxsdxr0000gn/T/ipykernel_57111/3077943115.py\n",
      "Function: sum_of_lists at line 2\n",
      "\n",
      "Line #      Hits         Time  Per Hit   % Time  Line Contents\n",
      "==============================================================\n",
      "     2                                           def sum_of_lists(N):\n",
      "     3         1       1000.0   1000.0      0.0      total = 0\n",
      "     4         5       3000.0    600.0      0.0      for i in range(5):\n",
      "     5         5    6440000.0 1288000.0     96.8          L = [j ^ (j >> i) for j in range(N)]\n",
      "     6         5     205000.0  41000.0      3.1          total += sum(L)\n",
      "     7         1       1000.0   1000.0      0.0      return total"
     ]
    }
   ],
   "source": [
    "%lprun -f sum_of_lists sum_of_lists(5000)"
   ]
  },
  {
   "cell_type": "code",
   "execution_count": 32,
   "metadata": {},
   "outputs": [
    {
     "name": "stdout",
     "output_type": "stream",
     "text": [
      "peak memory: 189.97 MiB, increment: 84.81 MiB\n"
     ]
    }
   ],
   "source": [
    "%memit sum_of_lists(1000000)"
   ]
  },
  {
   "cell_type": "code",
   "execution_count": 33,
   "metadata": {},
   "outputs": [
    {
     "name": "stdout",
     "output_type": "stream",
     "text": [
      "Writing mprun_demo.py\n"
     ]
    }
   ],
   "source": [
    "%%file mprun_demo.py\n",
    "def sum_of_lists(N):\n",
    "    total = 0\n",
    "    for i in range(5):\n",
    "        L = [j ^ (j >> i) for j in range(N)]\n",
    "        total += sum(L)\n",
    "        del L # remove reference to L\n",
    "    return total"
   ]
  },
  {
   "cell_type": "code",
   "execution_count": 34,
   "metadata": {},
   "outputs": [
    {
     "name": "stdout",
     "output_type": "stream",
     "text": [
      "\n"
     ]
    },
    {
     "name": "stdout",
     "output_type": "stream",
     "text": [
      "Filename: /Users/russell/Documents/Code/Python/Data_Science/mprun_demo.py\n",
      "\n",
      "Line #    Mem usage    Increment  Occurrences   Line Contents\n",
      "=============================================================\n",
      "     1    112.4 MiB    112.4 MiB           1   def sum_of_lists(N):\n",
      "     2    112.4 MiB      0.0 MiB           1       total = 0\n",
      "     3    125.9 MiB      0.0 MiB           6       for i in range(5):\n",
      "     4    159.6 MiB -49665594.8 MiB     5000015           L = [j ^ (j >> i) for j in range(N)]\n",
      "     5    159.6 MiB      0.0 MiB           5           total += sum(L)\n",
      "     6    125.9 MiB   -126.9 MiB           5           del L # remove reference to L\n",
      "     7    125.9 MiB      0.0 MiB           1       return total"
     ]
    }
   ],
   "source": [
    "from mprun_demo import sum_of_lists\n",
    "%mprun -f sum_of_lists sum_of_lists(1000000)"
   ]
  },
  {
   "cell_type": "code",
   "execution_count": null,
   "metadata": {},
   "outputs": [],
   "source": []
  }
 ],
 "metadata": {
  "kernelspec": {
   "display_name": "ML",
   "language": "python",
   "name": "python3"
  },
  "language_info": {
   "codemirror_mode": {
    "name": "ipython",
    "version": 3
   },
   "file_extension": ".py",
   "mimetype": "text/x-python",
   "name": "python",
   "nbconvert_exporter": "python",
   "pygments_lexer": "ipython3",
   "version": "3.11.3"
  },
  "orig_nbformat": 4
 },
 "nbformat": 4,
 "nbformat_minor": 2
}
